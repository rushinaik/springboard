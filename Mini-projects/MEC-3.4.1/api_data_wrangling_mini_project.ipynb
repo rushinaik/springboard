{
 "cells": [
  {
   "cell_type": "markdown",
   "metadata": {},
   "source": [
    "This exercise will require you to pull some data from the Qunadl API. Qaundl is currently the most widely used aggregator of financial market data."
   ]
  },
  {
   "cell_type": "markdown",
   "metadata": {},
   "source": [
    "As a first step, you will need to register a free account on the http://www.quandl.com website."
   ]
  },
  {
   "cell_type": "markdown",
   "metadata": {},
   "source": [
    "After you register, you will be provided with a unique API key, that you should store:"
   ]
  },
  {
   "cell_type": "code",
   "execution_count": 1,
   "metadata": {},
   "outputs": [],
   "source": [
    "# Store the API key as a string - according to PEP8, constants are always named in all upper case\n",
    "API_KEY = 'we254-HnqxzVvzueG4u1'"
   ]
  },
  {
   "cell_type": "markdown",
   "metadata": {},
   "source": [
    "Qaundl has a large number of data sources, but, unfortunately, most of them require a Premium subscription. Still, there are also a good number of free datasets."
   ]
  },
  {
   "cell_type": "markdown",
   "metadata": {},
   "source": [
    "For this mini project, we will focus on equities data from the Frankfurt Stock Exhange (FSE), which is available for free. We'll try and analyze the stock prices of a company called Carl Zeiss Meditec, which manufactures tools for eye examinations, as well as medical lasers for laser eye surgery: https://www.zeiss.com/meditec/int/home.html. The company is listed under the stock ticker AFX_X."
   ]
  },
  {
   "cell_type": "markdown",
   "metadata": {},
   "source": [
    "You can find the detailed Quandl API instructions here: https://docs.quandl.com/docs/time-series"
   ]
  },
  {
   "cell_type": "markdown",
   "metadata": {},
   "source": [
    "While there is a dedicated Python package for connecting to the Quandl API, we would prefer that you use the *requests* package, which can be easily downloaded using *pip* or *conda*. You can find the documentation for the package here: http://docs.python-requests.org/en/master/ "
   ]
  },
  {
   "cell_type": "markdown",
   "metadata": {},
   "source": [
    "Finally, apart from the *requests* package, you are encouraged to not use any third party Python packages, such as *pandas*, and instead focus on what's available in the Python Standard Library (the *collections* module might come in handy: https://pymotw.com/3/collections/).\n",
    "Also, since you won't have access to DataFrames, you are encouraged to us Python's native data structures - preferably dictionaries, though some questions can also be answered using lists.\n",
    "You can read more on these data structures here: https://docs.python.org/3/tutorial/datastructures.html"
   ]
  },
  {
   "cell_type": "markdown",
   "metadata": {},
   "source": [
    "Keep in mind that the JSON responses you will be getting from the API map almost one-to-one to Python's dictionaries. Unfortunately, they can be very nested, so make sure you read up on indexing dictionaries in the documentation provided above."
   ]
  },
  {
   "cell_type": "code",
   "execution_count": 2,
   "metadata": {},
   "outputs": [],
   "source": [
    "# Now, call the Quandl API and pull out a small sample of the data (only one day) to get a glimpse\n",
    "# into the JSON structure that will be returned\n",
    "import requests\n",
    "import json"
   ]
  },
  {
   "cell_type": "code",
   "execution_count": 3,
   "metadata": {},
   "outputs": [],
   "source": [
    "r =(requests.get('https://www.quandl.com/api/v3/datasets/FSE/EON_X?start_date=2020-05-07&end_date=2020-05-07&api_key=we254-HnqxzVvzueG4u1' ))"
   ]
  },
  {
   "cell_type": "code",
   "execution_count": 4,
   "metadata": {},
   "outputs": [
    {
     "data": {
      "text/plain": [
       "'{\"dataset\":{\"id\":36592406,\"dataset_code\":\"EON_X\",\"database_code\":\"FSE\",\"name\":\"E.on Se (EON_X)\",\"description\":\"Stock Prices for E.on Se (2020-05-08) from the Frankfurt Stock Exchange.\\\\u003cbr\\\\u003e\\\\u003cbr\\\\u003eTrading System: Xetra\\\\u003cbr\\\\u003e\\\\u003cbr\\\\u003eISIN: DE000ENAG999\",\"refreshed_at\":\"2020-05-22T22:16:19.751Z\",\"newest_available_date\":\"2020-05-22\",\"oldest_available_date\":\"2003-01-20\",\"column_names\":[\"Date\",\"Open\",\"High\",\"Low\",\"Close\",\"Change\",\"Traded Volume\",\"Turnover\",\"Last Price of the Day\",\"Daily Traded Units\",\"Daily Turnover\"],\"frequency\":\"daily\",\"type\":\"Time Series\",\"premium\":false,\"limit\":null,\"transform\":null,\"column_index\":null,\"start_date\":\"2020-05-07\",\"end_date\":\"2020-05-07\",\"data\":[[\"2020-05-07\",9.086,9.116,9.002,9.058,null,6214174.0,56277960.34,null,null,null]],\"collapse\":null,\"order\":null,\"database_id\":6129}}'"
      ]
     },
     "execution_count": 4,
     "metadata": {},
     "output_type": "execute_result"
    }
   ],
   "source": [
    "r.text"
   ]
  },
  {
   "cell_type": "code",
   "execution_count": 5,
   "metadata": {},
   "outputs": [],
   "source": [
    "# Inspect the JSON structure of the object you created, and take note of how nested it is,\n",
    "# as well as the overall structure\n",
    "#loading in Dictionary\n",
    "r = json.loads(r.text)\n"
   ]
  },
  {
   "cell_type": "code",
   "execution_count": 6,
   "metadata": {},
   "outputs": [
    {
     "data": {
      "text/plain": [
       "dict_values([36592406, 'EON_X', 'FSE', 'E.on Se (EON_X)', 'Stock Prices for E.on Se (2020-05-08) from the Frankfurt Stock Exchange.<br><br>Trading System: Xetra<br><br>ISIN: DE000ENAG999', '2020-05-22T22:16:19.751Z', '2020-05-22', '2003-01-20', ['Date', 'Open', 'High', 'Low', 'Close', 'Change', 'Traded Volume', 'Turnover', 'Last Price of the Day', 'Daily Traded Units', 'Daily Turnover'], 'daily', 'Time Series', False, None, None, None, '2020-05-07', '2020-05-07', [['2020-05-07', 9.086, 9.116, 9.002, 9.058, None, 6214174.0, 56277960.34, None, None, None]], None, None, 6129])"
      ]
     },
     "execution_count": 6,
     "metadata": {},
     "output_type": "execute_result"
    }
   ],
   "source": [
    "r['dataset'].values()\n"
   ]
  },
  {
   "cell_type": "markdown",
   "metadata": {},
   "source": [
    "These are your tasks for this mini project:\n",
    "\n",
    "1. Collect data from the Franfurt Stock Exchange, for the ticker AFX_X, for the whole year 2017 (keep in mind that the date format is YYYY-MM-DD).\n",
    "2. Convert the returned JSON object into a Python dictionary.\n",
    "3. Calculate what the highest and lowest opening prices were for the stock in this period.\n",
    "4. What was the largest change in any one day (based on High and Low price)?\n",
    "5. What was the largest change between any two days (based on Closing Price)?\n",
    "6. What was the average daily trading volume during this year?\n",
    "7. (Optional) What was the median trading volume during this year. (Note: you may need to implement your own function for calculating the median.)"
   ]
  },
  {
   "cell_type": "code",
   "execution_count": 42,
   "metadata": {},
   "outputs": [
    {
     "name": "stdout",
     "output_type": "stream",
     "text": [
      "<Response [200]>\n"
     ]
    }
   ],
   "source": [
    "#1\n",
    "#Collect data from the Franfurt Stock Exchange, for the ticker AFX_X, for the whole year 2017 (keep in mind that the date format is YYYY-MM-DD).\n",
    "r =(requests.get('https://www.quandl.com/api/v3/datasets/FSE/EON_X?start_date=2017-01-01&end_date=2017-12-31&api_key=we254-HnqxzVvzueG4u1' ))\n",
    "# r has the JSON objecet of the data and trying to print the response object if 200 means we are successfully implemented  it\n",
    "print(r)"
   ]
  },
  {
   "cell_type": "code",
   "execution_count": 43,
   "metadata": {},
   "outputs": [
    {
     "data": {
      "text/plain": [
       "dict"
      ]
     },
     "execution_count": 43,
     "metadata": {},
     "output_type": "execute_result"
    }
   ],
   "source": [
    "#2\n",
    "# used json.loads method to parse the json object into python dictionary\n",
    "dict_2017 = json.loads(r.text)\n",
    "type(dict_2017)\n"
   ]
  },
  {
   "cell_type": "code",
   "execution_count": 44,
   "metadata": {},
   "outputs": [
    {
     "name": "stdout",
     "output_type": "stream",
     "text": [
      "Highest openning prices 10.75 & Lowest openning prices  6.65\n"
     ]
    }
   ],
   "source": [
    "#3\n",
    "# l variable is created where appended the values of [1] of the dictonary object\n",
    "l=[]\n",
    "one_day_change=[]\n",
    "two_day_change=[]\n",
    "for i in dict_2017['dataset']['data']: # for loop is implemented to traverse through the data \n",
    "    l.append(i[1]) # append() is used to insert those values from the dictionary and  since highest and lowest is easy to find in list \n",
    "print('Highest openning prices '+str(max(l))+' & Lowest openning prices  '+str(min(l)))"
   ]
  },
  {
   "cell_type": "code",
   "execution_count": 45,
   "metadata": {},
   "outputs": [
    {
     "name": "stdout",
     "output_type": "stream",
     "text": [
      "Highest change in one day is 0.6999999999999993\n"
     ]
    }
   ],
   "source": [
    "#4\n",
    "# for loop is implemented to traverse through the data and to check the differnce of the two consecutive days \n",
    "for i in dict_2017['dataset']['data']:\n",
    "    one_day_change.append(i[2]-i[3])\n",
    "# one_day_change.append()\n",
    "print('Highest change in one day is '+str(max(one_day_change)))\n",
    "#printed the highest change in one day \n"
   ]
  },
  {
   "cell_type": "code",
   "execution_count": 46,
   "metadata": {},
   "outputs": [
    {
     "name": "stdout",
     "output_type": "stream",
     "text": [
      "The largest change between any two days (based on Closing Price) was:0.3999999999999986\n"
     ]
    }
   ],
   "source": [
    "#5\n",
    "# for loop is used since here need two values from the different data so zip function is implemented to bind the two different values\n",
    "for i,j in zip(dict_2017['dataset']['data'],dict_2017['dataset']['data'][1:] ):\n",
    "    two_day_change.append(i[4]-j[4])\n",
    "    # two_day_change stores the difference of the values \n",
    "print('The largest change between any two days (based on Closing Price) was:'+str(max(two_day_change)))"
   ]
  },
  {
   "cell_type": "code",
   "execution_count": 47,
   "metadata": {},
   "outputs": [
    {
     "name": "stdout",
     "output_type": "stream",
     "text": [
      "The average daily trading volume during this year was 27608.84126984127\n"
     ]
    }
   ],
   "source": [
    "#6\n",
    "# sum1 object is created to store the sum of column to find the average of the columns data\n",
    "sum1=0\n",
    "for i in dict_2017['dataset']['data']:\n",
    "    sum1 =+i[6]\n",
    "average_volume_trade=sum1/len(dict_2017['dataset']['data'])# avg = sum of values / total number of values present in the dataset\n",
    "\n",
    "print('The average daily trading volume during this year was '+str(average_volume_trade))\n",
    "\n",
    "  \n",
    "    "
   ]
  },
  {
   "cell_type": "code",
   "execution_count": 48,
   "metadata": {},
   "outputs": [
    {
     "name": "stdout",
     "output_type": "stream",
     "text": [
      "The median trading volume during this year was 10561328.5\n"
     ]
    }
   ],
   "source": [
    "#7\n",
    "# function is created which will return the median value of the sorted data \n",
    "def calculate_median(trads):\n",
    "    trads.sort()\n",
    "    if len(trads)%2 == 1:\n",
    "        return trads[len(trads)/2]\n",
    "    return (trads[int(len(trads)/2)]+trads[int(len(trads)/2)+1])/2\n",
    "list_trads = [] # list is to store the particular columns data\n",
    "for i in dict_2017['dataset']['data']:\n",
    "    list_trads.append(i[6])  # values are appended into the list \n",
    "print('The median trading volume during this year was '+str(calculate_median(list_trads)))   #printing the value returned throug the function of calculate_median()\n"
   ]
  },
  {
   "cell_type": "code",
   "execution_count": null,
   "metadata": {},
   "outputs": [],
   "source": []
  },
  {
   "cell_type": "code",
   "execution_count": null,
   "metadata": {},
   "outputs": [],
   "source": [
    "\n"
   ]
  },
  {
   "cell_type": "code",
   "execution_count": null,
   "metadata": {},
   "outputs": [],
   "source": [
    "\n"
   ]
  },
  {
   "cell_type": "code",
   "execution_count": null,
   "metadata": {},
   "outputs": [],
   "source": [
    "\n",
    "    "
   ]
  },
  {
   "cell_type": "code",
   "execution_count": 19,
   "metadata": {},
   "outputs": [],
   "source": [
    " \n"
   ]
  },
  {
   "cell_type": "code",
   "execution_count": null,
   "metadata": {},
   "outputs": [],
   "source": []
  },
  {
   "cell_type": "code",
   "execution_count": null,
   "metadata": {},
   "outputs": [],
   "source": [
    "\n",
    "\n",
    "    "
   ]
  },
  {
   "cell_type": "code",
   "execution_count": null,
   "metadata": {},
   "outputs": [],
   "source": []
  },
  {
   "cell_type": "code",
   "execution_count": null,
   "metadata": {},
   "outputs": [],
   "source": []
  }
 ],
 "metadata": {
  "kernelspec": {
   "display_name": "Python 3",
   "language": "python",
   "name": "python3"
  },
  "language_info": {
   "codemirror_mode": {
    "name": "ipython",
    "version": 3
   },
   "file_extension": ".py",
   "mimetype": "text/x-python",
   "name": "python",
   "nbconvert_exporter": "python",
   "pygments_lexer": "ipython3",
   "version": "3.7.6"
  }
 },
 "nbformat": 4,
 "nbformat_minor": 4
}
